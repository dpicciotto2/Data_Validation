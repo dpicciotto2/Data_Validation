{
 "cells": [
  {
   "cell_type": "code",
   "execution_count": 1,
   "metadata": {},
   "outputs": [],
   "source": [
    "##This file is a working file combine useful functions for validating data sets\n",
    "    ## File Created 7-21 by Dan Picciotto"
   ]
  },
  {
   "cell_type": "markdown",
   "metadata": {},
   "source": [
    "When data is imported from one location to another, changes can happen that will skew the analysis. Doing data validation in the begining will help ensure accurate results. One way to do so is conducting basis statistical tests and compare them with published results. \n"
   ]
  },
  {
   "cell_type": "markdown",
   "metadata": {},
   "source": [
    "##### Value Counts"
   ]
  },
  {
   "cell_type": "markdown",
   "metadata": {},
   "source": [
    "Use value count to show the amount of instances by value in a data set. "
   ]
  },
  {
   "cell_type": "code",
   "execution_count": null,
   "metadata": {},
   "outputs": [],
   "source": [
    "#### Show counts of outcome with sort\n",
    "#similar to count and group by in sql\n",
    "col1.outcome.value_counts().sortindex()\n",
    "#where col1 is a variable containing the series df.col1\n",
    "#--> Value_counts will sort desc\n",
    "#--> sortindex() sorts by the column index small to large"
   ]
  },
  {
   "cell_type": "code",
   "execution_count": null,
   "metadata": {},
   "outputs": [],
   "source": [
    "#### Check column of another variable\n",
    "df.col2.outcome.value_counts().sortindex\n",
    "#--> does same as above without creating a variable to do so"
   ]
  },
  {
   "cell_type": "markdown",
   "metadata": {},
   "source": []
  },
  {
   "cell_type": "markdown",
   "metadata": {},
   "source": [
    "#### Use Primary key and dictionairy to see values for one respondant"
   ]
  },
  {
   "cell_type": "code",
   "execution_count": null,
   "metadata": {},
   "outputs": [],
   "source": [
    "#Start by defineing a function\n",
    "\n",
    "def MakeDfMap(df):\n",
    "    d = defaultdict(list)\n",
    "    for index, caseid in df.caseid.iteritems():\n",
    "        d[caseid].append(index)\n",
    "    return d\n",
    "\n",
    "#iteritems enumerates the index (row number) and caseid\n",
    "# d is a dictionairy that maps from each case id to a list of indices \n",
    "# we can use d to look up the indices of that caseid\n",
    "# --> Example\n",
    "\n",
    "caseid = 1234 \n",
    "DfMap = datafile.MakeDfMap(df) #--> datafile variable with multiple data sets, like a folder\n",
    "indices = DfMap[caseid]\n",
    "df.outcome[indices].values\n",
    "\n",
    "# selects the indicates rows and the results produce a series of the results"
   ]
  }
 ],
 "metadata": {
  "kernelspec": {
   "display_name": "Python 3",
   "language": "python",
   "name": "python3"
  },
  "language_info": {
   "codemirror_mode": {
    "name": "ipython",
    "version": 3
   },
   "file_extension": ".py",
   "mimetype": "text/x-python",
   "name": "python",
   "nbconvert_exporter": "python",
   "pygments_lexer": "ipython3",
   "version": "3.6.4"
  }
 },
 "nbformat": 4,
 "nbformat_minor": 2
}
